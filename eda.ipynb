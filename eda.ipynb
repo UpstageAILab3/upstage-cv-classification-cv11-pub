{
 "cells": [
  {
   "cell_type": "code",
   "execution_count": null,
   "metadata": {},
   "outputs": [],
   "source": [
    "import os\n",
    "import matplotlib.pyplot as plt\n",
    "import matplotlib.font_manager as fm\n",
    "import pandas as pd\n",
    "from PIL import Image\n",
    "\n",
    "font_path = \"./font/NanumGothic.otf\"\n",
    "font_prop = fm.FontProperties(fname=font_path)\n",
    "plt.rcParams['font.family'] = font_prop.get_name()\n",
    "plt.rcParams['axes.unicode_minus'] = False\n",
    "\n",
    "# 17개 클래스별 대표 이미지 시각화\n",
    "def visualize_train_classes(train_csv_path, train_img_dir, num_samples=2):\n",
    "    # CSV 파일 읽기\n",
    "    train_df = pd.read_csv(train_csv_path)\n",
    "    \n",
    "    # 클래스 이름 정의\n",
    "    class_names = {\n",
    "        0: \"계좌번호(손글씨)\", 1: \"임신출산 진료비 지급 신청서\", 2: \"자동차 계기판\", 3: \"입퇴원 확인서\", 4: \"진단서\", \n",
    "        5: \"운전면허증\", 6: \"진료비영수증\", 7: \"통원/진료 확인서\", 8: \"주민등록증\", 9: \"여권\", \n",
    "        10: \"진료비 납입 확인서\", 11: \"약제비 영수증\", 12: \"처방전\", 13: \"이력서\", 14: \"소견서\", \n",
    "        15: \"자동차 등록증\", 16: \"자동차 번호판\"\n",
    "    }\n",
    "    \n",
    "    # 클래스별로 이미지 선택\n",
    "    class_images = {}\n",
    "    for class_id in range(17):\n",
    "        class_df = train_df[train_df['target'] == class_id]\n",
    "        selected_images = class_df['ID'].sample(num_samples).tolist()\n",
    "        class_images[class_id] = selected_images\n",
    "    \n",
    "    # 이미지 시각화\n",
    "    fig, axes = plt.subplots(4, 5, figsize=(20, 16))\n",
    "    axes = axes.ravel()\n",
    "    \n",
    "    for idx, (class_id, image_list) in enumerate(class_images.items()):\n",
    "        if idx < 17:  # 17개 클래스만 표시\n",
    "            img_path = os.path.join(train_img_dir, image_list[0])\n",
    "            img = Image.open(img_path)\n",
    "            axes[idx].imshow(img)\n",
    "            class_name = class_names[class_id]\n",
    "            axes[idx].set_title(f\"Class {class_id}: {class_name}\", fontsize=10, fontproperties=font_prop)\n",
    "            axes[idx].axis('off')\n",
    "    \n",
    "    plt.tight_layout()\n",
    "    plt.axis('off')\n",
    "    plt.show()\n",
    "\n",
    "train_csv_path = 'data/train.csv'\n",
    "train_img_dir = 'data/train/'\n",
    "\n",
    "visualize_train_classes(train_csv_path, train_img_dir)"
   ]
  }
 ],
 "metadata": {
  "kernelspec": {
   "display_name": "env",
   "language": "python",
   "name": "python3"
  },
  "language_info": {
   "codemirror_mode": {
    "name": "ipython",
    "version": 3
   },
   "file_extension": ".py",
   "mimetype": "text/x-python",
   "name": "python",
   "nbconvert_exporter": "python",
   "pygments_lexer": "ipython3",
   "version": "3.10.13"
  }
 },
 "nbformat": 4,
 "nbformat_minor": 2
}
