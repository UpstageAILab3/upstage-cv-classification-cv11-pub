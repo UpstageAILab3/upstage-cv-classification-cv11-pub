{
 "cells": [
  {
   "cell_type": "markdown",
   "metadata": {},
   "source": [
    "target 별 데이터 갯수가 불균형한 문제를 수정"
   ]
  },
  {
   "cell_type": "code",
   "execution_count": 34,
   "metadata": {},
   "outputs": [],
   "source": [
    "import pandas as pd"
   ]
  },
  {
   "cell_type": "code",
   "execution_count": 35,
   "metadata": {},
   "outputs": [
    {
     "data": {
      "text/html": [
       "<div>\n",
       "<style scoped>\n",
       "    .dataframe tbody tr th:only-of-type {\n",
       "        vertical-align: middle;\n",
       "    }\n",
       "\n",
       "    .dataframe tbody tr th {\n",
       "        vertical-align: top;\n",
       "    }\n",
       "\n",
       "    .dataframe thead th {\n",
       "        text-align: right;\n",
       "    }\n",
       "</style>\n",
       "<table border=\"1\" class=\"dataframe\">\n",
       "  <thead>\n",
       "    <tr style=\"text-align: right;\">\n",
       "      <th></th>\n",
       "      <th>ID</th>\n",
       "      <th>target</th>\n",
       "    </tr>\n",
       "  </thead>\n",
       "  <tbody>\n",
       "    <tr>\n",
       "      <th>0</th>\n",
       "      <td>002f99746285dfdd.jpg</td>\n",
       "      <td>16</td>\n",
       "    </tr>\n",
       "    <tr>\n",
       "      <th>1</th>\n",
       "      <td>008ccd231e1fea5d.jpg</td>\n",
       "      <td>10</td>\n",
       "    </tr>\n",
       "    <tr>\n",
       "      <th>2</th>\n",
       "      <td>008f5911bfda7695.jpg</td>\n",
       "      <td>10</td>\n",
       "    </tr>\n",
       "    <tr>\n",
       "      <th>3</th>\n",
       "      <td>009235e4c9c07af5.jpg</td>\n",
       "      <td>4</td>\n",
       "    </tr>\n",
       "    <tr>\n",
       "      <th>4</th>\n",
       "      <td>00b2f44967580c74.jpg</td>\n",
       "      <td>16</td>\n",
       "    </tr>\n",
       "    <tr>\n",
       "      <th>...</th>\n",
       "      <td>...</td>\n",
       "      <td>...</td>\n",
       "    </tr>\n",
       "    <tr>\n",
       "      <th>1565</th>\n",
       "      <td>fed9e9ec4a77bc06.jpg</td>\n",
       "      <td>4</td>\n",
       "    </tr>\n",
       "    <tr>\n",
       "      <th>1566</th>\n",
       "      <td>feeade617aa68c45.jpg</td>\n",
       "      <td>7</td>\n",
       "    </tr>\n",
       "    <tr>\n",
       "      <th>1567</th>\n",
       "      <td>ff51dd281a8423f1.jpg</td>\n",
       "      <td>11</td>\n",
       "    </tr>\n",
       "    <tr>\n",
       "      <th>1568</th>\n",
       "      <td>ff8a6a251ce51c95.jpg</td>\n",
       "      <td>5</td>\n",
       "    </tr>\n",
       "    <tr>\n",
       "      <th>1569</th>\n",
       "      <td>ffc22136f958deb1.jpg</td>\n",
       "      <td>9</td>\n",
       "    </tr>\n",
       "  </tbody>\n",
       "</table>\n",
       "<p>1570 rows × 2 columns</p>\n",
       "</div>"
      ],
      "text/plain": [
       "                        ID  target\n",
       "0     002f99746285dfdd.jpg      16\n",
       "1     008ccd231e1fea5d.jpg      10\n",
       "2     008f5911bfda7695.jpg      10\n",
       "3     009235e4c9c07af5.jpg       4\n",
       "4     00b2f44967580c74.jpg      16\n",
       "...                    ...     ...\n",
       "1565  fed9e9ec4a77bc06.jpg       4\n",
       "1566  feeade617aa68c45.jpg       7\n",
       "1567  ff51dd281a8423f1.jpg      11\n",
       "1568  ff8a6a251ce51c95.jpg       5\n",
       "1569  ffc22136f958deb1.jpg       9\n",
       "\n",
       "[1570 rows x 2 columns]"
      ]
     },
     "execution_count": 35,
     "metadata": {},
     "output_type": "execute_result"
    }
   ],
   "source": [
    "df = pd.read_csv('datasets_fin/train.csv')\n",
    "df"
   ]
  },
  {
   "cell_type": "code",
   "execution_count": 36,
   "metadata": {},
   "outputs": [
    {
     "data": {
      "text/plain": [
       "target\n",
       "7     102\n",
       "10    102\n",
       "0     100\n",
       "12    100\n",
       "8     100\n",
       "2     100\n",
       "16    100\n",
       "9     100\n",
       "15    100\n",
       "5     100\n",
       "6     100\n",
       "4      99\n",
       "11     98\n",
       "3      98\n",
       "13     74\n",
       "14     51\n",
       "1      46\n",
       "Name: count, dtype: int64"
      ]
     },
     "execution_count": 36,
     "metadata": {},
     "output_type": "execute_result"
    }
   ],
   "source": [
    "df['target'].value_counts()"
   ]
  },
  {
   "cell_type": "code",
   "execution_count": 37,
   "metadata": {},
   "outputs": [
    {
     "data": {
      "text/plain": [
       "target\n",
       "7     102\n",
       "10    102\n",
       "0     102\n",
       "12    100\n",
       "8     100\n",
       "2     100\n",
       "16    100\n",
       "9     100\n",
       "15    100\n",
       "5     100\n",
       "6     100\n",
       "4      99\n",
       "11     98\n",
       "3      98\n",
       "13     74\n",
       "14     51\n",
       "1      46\n",
       "Name: count, dtype: int64"
      ]
     },
     "execution_count": 37,
     "metadata": {},
     "output_type": "execute_result"
    }
   ],
   "source": [
    "df_target_0 = df[df['target'] == 0]\n",
    "df = pd.concat([df, df_target_0.iloc[0:2]], axis=0)\n",
    "df['target'].value_counts()"
   ]
  },
  {
   "cell_type": "code",
   "execution_count": 38,
   "metadata": {},
   "outputs": [
    {
     "data": {
      "text/plain": [
       "target\n",
       "7     102\n",
       "10    102\n",
       "1     102\n",
       "0     102\n",
       "12    100\n",
       "8     100\n",
       "2     100\n",
       "16    100\n",
       "9     100\n",
       "15    100\n",
       "5     100\n",
       "6     100\n",
       "4      99\n",
       "11     98\n",
       "3      98\n",
       "13     74\n",
       "14     51\n",
       "Name: count, dtype: int64"
      ]
     },
     "execution_count": 38,
     "metadata": {},
     "output_type": "execute_result"
    }
   ],
   "source": [
    "df_target_1 = df[df['target'] == 1]\n",
    "df = pd.concat([df, df_target_1], axis=0)\n",
    "df = pd.concat([df, df_target_1.iloc[0:10]], axis=0)\n",
    "df['target'].value_counts()"
   ]
  },
  {
   "cell_type": "code",
   "execution_count": 39,
   "metadata": {},
   "outputs": [
    {
     "data": {
      "text/plain": [
       "target\n",
       "7     102\n",
       "10    102\n",
       "1     102\n",
       "0     102\n",
       "2     102\n",
       "12    100\n",
       "8     100\n",
       "16    100\n",
       "9     100\n",
       "15    100\n",
       "5     100\n",
       "6     100\n",
       "4      99\n",
       "11     98\n",
       "3      98\n",
       "13     74\n",
       "14     51\n",
       "Name: count, dtype: int64"
      ]
     },
     "execution_count": 39,
     "metadata": {},
     "output_type": "execute_result"
    }
   ],
   "source": [
    "df_target_2 = df[df['target'] == 2]\n",
    "df = pd.concat([df, df_target_2.iloc[0:2]], axis=0)\n",
    "df['target'].value_counts()"
   ]
  },
  {
   "cell_type": "code",
   "execution_count": 40,
   "metadata": {},
   "outputs": [
    {
     "data": {
      "text/plain": [
       "target\n",
       "7     102\n",
       "10    102\n",
       "1     102\n",
       "0     102\n",
       "3     102\n",
       "2     102\n",
       "12    100\n",
       "8     100\n",
       "16    100\n",
       "9     100\n",
       "15    100\n",
       "5     100\n",
       "6     100\n",
       "4      99\n",
       "11     98\n",
       "13     74\n",
       "14     51\n",
       "Name: count, dtype: int64"
      ]
     },
     "execution_count": 40,
     "metadata": {},
     "output_type": "execute_result"
    }
   ],
   "source": [
    "df_target_3 = df[df['target'] == 3]\n",
    "df = pd.concat([df, df_target_3.iloc[0:4]], axis=0)\n",
    "df['target'].value_counts()"
   ]
  },
  {
   "cell_type": "code",
   "execution_count": 41,
   "metadata": {},
   "outputs": [
    {
     "data": {
      "text/plain": [
       "target\n",
       "3     105\n",
       "7     102\n",
       "10    102\n",
       "1     102\n",
       "0     102\n",
       "2     102\n",
       "12    100\n",
       "8     100\n",
       "16    100\n",
       "9     100\n",
       "15    100\n",
       "5     100\n",
       "6     100\n",
       "4      99\n",
       "11     98\n",
       "13     74\n",
       "14     51\n",
       "Name: count, dtype: int64"
      ]
     },
     "execution_count": 41,
     "metadata": {},
     "output_type": "execute_result"
    }
   ],
   "source": [
    "df_target_4 = df[df['target'] == 4]\n",
    "df = pd.concat([df, df_target_4.iloc[0:3]], axis=0)\n",
    "df['target'].value_counts()"
   ]
  },
  {
   "cell_type": "code",
   "execution_count": 42,
   "metadata": {},
   "outputs": [
    {
     "data": {
      "text/plain": [
       "target\n",
       "3     105\n",
       "7     102\n",
       "2     102\n",
       "1     102\n",
       "5     102\n",
       "0     102\n",
       "10    102\n",
       "12    100\n",
       "8     100\n",
       "16    100\n",
       "9     100\n",
       "15    100\n",
       "6     100\n",
       "4      99\n",
       "11     98\n",
       "13     74\n",
       "14     51\n",
       "Name: count, dtype: int64"
      ]
     },
     "execution_count": 42,
     "metadata": {},
     "output_type": "execute_result"
    }
   ],
   "source": [
    "df_target_5 = df[df['target'] == 5]\n",
    "df = pd.concat([df, df_target_5.iloc[0:2]], axis=0)\n",
    "df['target'].value_counts()"
   ]
  },
  {
   "cell_type": "code",
   "execution_count": 43,
   "metadata": {},
   "outputs": [
    {
     "data": {
      "text/plain": [
       "target\n",
       "3     105\n",
       "7     102\n",
       "10    102\n",
       "1     102\n",
       "0     102\n",
       "2     102\n",
       "6     102\n",
       "5     102\n",
       "9     100\n",
       "8     100\n",
       "12    100\n",
       "15    100\n",
       "16    100\n",
       "4      99\n",
       "11     98\n",
       "13     74\n",
       "14     51\n",
       "Name: count, dtype: int64"
      ]
     },
     "execution_count": 43,
     "metadata": {},
     "output_type": "execute_result"
    }
   ],
   "source": [
    "df_target_6 = df[df['target'] == 6]\n",
    "df = pd.concat([df, df_target_6.iloc[0:2]], axis=0)\n",
    "df['target'].value_counts()"
   ]
  },
  {
   "cell_type": "code",
   "execution_count": 44,
   "metadata": {},
   "outputs": [
    {
     "data": {
      "text/plain": [
       "target\n",
       "3     105\n",
       "7     102\n",
       "10    102\n",
       "1     102\n",
       "0     102\n",
       "8     102\n",
       "2     102\n",
       "6     102\n",
       "5     102\n",
       "9     100\n",
       "12    100\n",
       "15    100\n",
       "16    100\n",
       "4      99\n",
       "11     98\n",
       "13     74\n",
       "14     51\n",
       "Name: count, dtype: int64"
      ]
     },
     "execution_count": 44,
     "metadata": {},
     "output_type": "execute_result"
    }
   ],
   "source": [
    "df_target_8 = df[df['target'] == 8]\n",
    "df = pd.concat([df, df_target_8.iloc[0:2]], axis=0)\n",
    "df['target'].value_counts()"
   ]
  },
  {
   "cell_type": "code",
   "execution_count": 45,
   "metadata": {},
   "outputs": [
    {
     "data": {
      "text/plain": [
       "target\n",
       "3     105\n",
       "7     102\n",
       "10    102\n",
       "1     102\n",
       "0     102\n",
       "8     102\n",
       "2     102\n",
       "6     102\n",
       "9     102\n",
       "5     102\n",
       "12    100\n",
       "15    100\n",
       "16    100\n",
       "4      99\n",
       "11     98\n",
       "13     74\n",
       "14     51\n",
       "Name: count, dtype: int64"
      ]
     },
     "execution_count": 45,
     "metadata": {},
     "output_type": "execute_result"
    }
   ],
   "source": [
    "df_target_9 = df[df['target'] == 9]\n",
    "df = pd.concat([df, df_target_9.iloc[0:2]], axis=0)\n",
    "df['target'].value_counts()"
   ]
  },
  {
   "cell_type": "code",
   "execution_count": 46,
   "metadata": {},
   "outputs": [
    {
     "data": {
      "text/plain": [
       "target\n",
       "3     105\n",
       "7     102\n",
       "10    102\n",
       "1     102\n",
       "0     102\n",
       "8     102\n",
       "2     102\n",
       "11    102\n",
       "6     102\n",
       "9     102\n",
       "5     102\n",
       "12    100\n",
       "15    100\n",
       "16    100\n",
       "4      99\n",
       "13     74\n",
       "14     51\n",
       "Name: count, dtype: int64"
      ]
     },
     "execution_count": 46,
     "metadata": {},
     "output_type": "execute_result"
    }
   ],
   "source": [
    "df_target_11 = df[df['target'] == 11]\n",
    "df = pd.concat([df, df_target_11.iloc[0:4]], axis=0)\n",
    "df['target'].value_counts()"
   ]
  },
  {
   "cell_type": "code",
   "execution_count": 47,
   "metadata": {},
   "outputs": [
    {
     "data": {
      "text/plain": [
       "target\n",
       "3     105\n",
       "7     102\n",
       "11    102\n",
       "1     102\n",
       "0     102\n",
       "12    102\n",
       "8     102\n",
       "2     102\n",
       "6     102\n",
       "10    102\n",
       "9     102\n",
       "5     102\n",
       "15    100\n",
       "16    100\n",
       "4      99\n",
       "13     74\n",
       "14     51\n",
       "Name: count, dtype: int64"
      ]
     },
     "execution_count": 47,
     "metadata": {},
     "output_type": "execute_result"
    }
   ],
   "source": [
    "df_target_12 = df[df['target'] == 12]\n",
    "df = pd.concat([df, df_target_12.iloc[0:2]], axis=0)\n",
    "df['target'].value_counts()"
   ]
  },
  {
   "cell_type": "code",
   "execution_count": 48,
   "metadata": {},
   "outputs": [
    {
     "data": {
      "text/plain": [
       "target\n",
       "3     105\n",
       "7     102\n",
       "11    102\n",
       "1     102\n",
       "0     102\n",
       "12    102\n",
       "8     102\n",
       "2     102\n",
       "6     102\n",
       "10    102\n",
       "13    102\n",
       "9     102\n",
       "5     102\n",
       "15    100\n",
       "16    100\n",
       "4      99\n",
       "14     51\n",
       "Name: count, dtype: int64"
      ]
     },
     "execution_count": 48,
     "metadata": {},
     "output_type": "execute_result"
    }
   ],
   "source": [
    "df_target_13 = df[df['target'] == 13]\n",
    "df = pd.concat([df, df_target_13.iloc[0:28]], axis=0)\n",
    "df['target'].value_counts()"
   ]
  },
  {
   "cell_type": "code",
   "execution_count": 49,
   "metadata": {},
   "outputs": [
    {
     "data": {
      "text/plain": [
       "target\n",
       "3     105\n",
       "7     102\n",
       "11    102\n",
       "1     102\n",
       "0     102\n",
       "12    102\n",
       "8     102\n",
       "2     102\n",
       "6     102\n",
       "10    102\n",
       "13    102\n",
       "9     102\n",
       "14    102\n",
       "5     102\n",
       "15    100\n",
       "16    100\n",
       "4      99\n",
       "Name: count, dtype: int64"
      ]
     },
     "execution_count": 49,
     "metadata": {},
     "output_type": "execute_result"
    }
   ],
   "source": [
    "df_target_14 = df[df['target'] == 14]\n",
    "df = pd.concat([df, df_target_14], axis=0)\n",
    "df['target'].value_counts()"
   ]
  },
  {
   "cell_type": "code",
   "execution_count": 50,
   "metadata": {},
   "outputs": [
    {
     "data": {
      "text/plain": [
       "target\n",
       "3     105\n",
       "7     102\n",
       "11    102\n",
       "1     102\n",
       "0     102\n",
       "12    102\n",
       "8     102\n",
       "2     102\n",
       "6     102\n",
       "10    102\n",
       "13    102\n",
       "9     102\n",
       "14    102\n",
       "15    102\n",
       "5     102\n",
       "16    100\n",
       "4      99\n",
       "Name: count, dtype: int64"
      ]
     },
     "execution_count": 50,
     "metadata": {},
     "output_type": "execute_result"
    }
   ],
   "source": [
    "df_target_15 = df[df['target'] == 15]\n",
    "df = pd.concat([df, df_target_15.iloc[0:2]], axis=0)\n",
    "df['target'].value_counts()"
   ]
  },
  {
   "cell_type": "code",
   "execution_count": 51,
   "metadata": {},
   "outputs": [
    {
     "data": {
      "text/plain": [
       "target\n",
       "3     105\n",
       "16    102\n",
       "11    102\n",
       "1     102\n",
       "0     102\n",
       "12    102\n",
       "8     102\n",
       "2     102\n",
       "7     102\n",
       "10    102\n",
       "13    102\n",
       "9     102\n",
       "14    102\n",
       "15    102\n",
       "5     102\n",
       "6     102\n",
       "4      99\n",
       "Name: count, dtype: int64"
      ]
     },
     "execution_count": 51,
     "metadata": {},
     "output_type": "execute_result"
    }
   ],
   "source": [
    "df_target_16 = df[df['target'] == 16]\n",
    "df = pd.concat([df, df_target_16.iloc[0:2]], axis=0)\n",
    "df['target'].value_counts()"
   ]
  },
  {
   "cell_type": "code",
   "execution_count": 52,
   "metadata": {},
   "outputs": [],
   "source": [
    "df.to_csv('train_fix_imbalance.csv', index=False)"
   ]
  },
  {
   "cell_type": "code",
   "execution_count": 53,
   "metadata": {},
   "outputs": [
    {
     "data": {
      "text/html": [
       "<div>\n",
       "<style scoped>\n",
       "    .dataframe tbody tr th:only-of-type {\n",
       "        vertical-align: middle;\n",
       "    }\n",
       "\n",
       "    .dataframe tbody tr th {\n",
       "        vertical-align: top;\n",
       "    }\n",
       "\n",
       "    .dataframe thead th {\n",
       "        text-align: right;\n",
       "    }\n",
       "</style>\n",
       "<table border=\"1\" class=\"dataframe\">\n",
       "  <thead>\n",
       "    <tr style=\"text-align: right;\">\n",
       "      <th></th>\n",
       "      <th>ID</th>\n",
       "      <th>target</th>\n",
       "    </tr>\n",
       "  </thead>\n",
       "  <tbody>\n",
       "    <tr>\n",
       "      <th>0</th>\n",
       "      <td>002f99746285dfdd.jpg</td>\n",
       "      <td>16</td>\n",
       "    </tr>\n",
       "    <tr>\n",
       "      <th>1</th>\n",
       "      <td>008ccd231e1fea5d.jpg</td>\n",
       "      <td>10</td>\n",
       "    </tr>\n",
       "    <tr>\n",
       "      <th>2</th>\n",
       "      <td>008f5911bfda7695.jpg</td>\n",
       "      <td>10</td>\n",
       "    </tr>\n",
       "    <tr>\n",
       "      <th>3</th>\n",
       "      <td>009235e4c9c07af5.jpg</td>\n",
       "      <td>4</td>\n",
       "    </tr>\n",
       "    <tr>\n",
       "      <th>4</th>\n",
       "      <td>00b2f44967580c74.jpg</td>\n",
       "      <td>16</td>\n",
       "    </tr>\n",
       "    <tr>\n",
       "      <th>...</th>\n",
       "      <td>...</td>\n",
       "      <td>...</td>\n",
       "    </tr>\n",
       "    <tr>\n",
       "      <th>1729</th>\n",
       "      <td>fb70357d03187bf2.jpg</td>\n",
       "      <td>14</td>\n",
       "    </tr>\n",
       "    <tr>\n",
       "      <th>1730</th>\n",
       "      <td>00ec594b7cc89183.jpg</td>\n",
       "      <td>15</td>\n",
       "    </tr>\n",
       "    <tr>\n",
       "      <th>1731</th>\n",
       "      <td>00fdc02d9b552fe8.jpg</td>\n",
       "      <td>15</td>\n",
       "    </tr>\n",
       "    <tr>\n",
       "      <th>1732</th>\n",
       "      <td>002f99746285dfdd.jpg</td>\n",
       "      <td>16</td>\n",
       "    </tr>\n",
       "    <tr>\n",
       "      <th>1733</th>\n",
       "      <td>00b2f44967580c74.jpg</td>\n",
       "      <td>16</td>\n",
       "    </tr>\n",
       "  </tbody>\n",
       "</table>\n",
       "<p>1734 rows × 2 columns</p>\n",
       "</div>"
      ],
      "text/plain": [
       "                        ID  target\n",
       "0     002f99746285dfdd.jpg      16\n",
       "1     008ccd231e1fea5d.jpg      10\n",
       "2     008f5911bfda7695.jpg      10\n",
       "3     009235e4c9c07af5.jpg       4\n",
       "4     00b2f44967580c74.jpg      16\n",
       "...                    ...     ...\n",
       "1729  fb70357d03187bf2.jpg      14\n",
       "1730  00ec594b7cc89183.jpg      15\n",
       "1731  00fdc02d9b552fe8.jpg      15\n",
       "1732  002f99746285dfdd.jpg      16\n",
       "1733  00b2f44967580c74.jpg      16\n",
       "\n",
       "[1734 rows x 2 columns]"
      ]
     },
     "execution_count": 53,
     "metadata": {},
     "output_type": "execute_result"
    }
   ],
   "source": [
    "df = pd.read_csv('train_fix_imbalance.csv')\n",
    "df"
   ]
  },
  {
   "cell_type": "code",
   "execution_count": 54,
   "metadata": {},
   "outputs": [
    {
     "data": {
      "text/plain": [
       "target\n",
       "3     105\n",
       "16    102\n",
       "11    102\n",
       "1     102\n",
       "0     102\n",
       "12    102\n",
       "8     102\n",
       "2     102\n",
       "7     102\n",
       "10    102\n",
       "13    102\n",
       "9     102\n",
       "14    102\n",
       "15    102\n",
       "5     102\n",
       "6     102\n",
       "4      99\n",
       "Name: count, dtype: int64"
      ]
     },
     "execution_count": 54,
     "metadata": {},
     "output_type": "execute_result"
    }
   ],
   "source": [
    "df['target'].value_counts()"
   ]
  }
 ],
 "metadata": {
  "kernelspec": {
   "display_name": "base",
   "language": "python",
   "name": "python3"
  },
  "language_info": {
   "codemirror_mode": {
    "name": "ipython",
    "version": 3
   },
   "file_extension": ".py",
   "mimetype": "text/x-python",
   "name": "python",
   "nbconvert_exporter": "python",
   "pygments_lexer": "ipython3",
   "version": "3.10.13"
  }
 },
 "nbformat": 4,
 "nbformat_minor": 2
}
