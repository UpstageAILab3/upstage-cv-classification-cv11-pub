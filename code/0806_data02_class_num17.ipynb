{
 "cells": [
  {
   "cell_type": "code",
   "execution_count": null,
   "metadata": {},
   "outputs": [],
   "source": [
    "#%pip install easyocr"
   ]
  },
  {
   "cell_type": "markdown",
   "metadata": {},
   "source": [
    "### 7번 클래스를 진료확인서 = 7, 통원확인서 = 17로 변경\n",
    "- 변경 후 학습, 학습 후 예측값 후처리 예정 "
   ]
  },
  {
   "cell_type": "code",
   "execution_count": 1,
   "metadata": {},
   "outputs": [],
   "source": [
    "import os\n",
    "import pandas as pd\n",
    "from easyocr import Reader\n",
    "import re"
   ]
  },
  {
   "cell_type": "code",
   "execution_count": 2,
   "metadata": {},
   "outputs": [],
   "source": [
    "# 경로 설정\n",
    "csv_file_path = '../data/new_train.csv'\n",
    "images_folder_path = '../data/train'"
   ]
  },
  {
   "cell_type": "code",
   "execution_count": 3,
   "metadata": {},
   "outputs": [],
   "source": [
    "# CSV 파일 로드\n",
    "df = pd.read_csv(csv_file_path)"
   ]
  },
  {
   "cell_type": "code",
   "execution_count": 4,
   "metadata": {},
   "outputs": [],
   "source": [
    "# EasyOCR 리더 초기화\n",
    "reader = Reader(['ko'])"
   ]
  },
  {
   "cell_type": "code",
   "execution_count": 5,
   "metadata": {},
   "outputs": [],
   "source": [
    "# 'target' 값을 7로 갖는 행을 필터링\n",
    "df_target_7 = df[df['target'] == 7]"
   ]
  },
  {
   "cell_type": "code",
   "execution_count": 6,
   "metadata": {},
   "outputs": [],
   "source": [
    "# 텍스트에서 숫자, 공백, 및 특수문자 제거하는 함수\n",
    "def clean_text(text):\n",
    "    # 숫자와 특수문자, 공백을 모두 제거하고 한글만 남기기\n",
    "    cleaned_text = re.sub(r'[^가-힣]', '', text)\n",
    "    return cleaned_text\n",
    "\n",
    "for index, row in df_target_7.iterrows():\n",
    "    image_file_path = os.path.join(images_folder_path, row['ID'])\n",
    "    \n",
    "    if os.path.isfile(image_file_path):\n",
    "        # 이미지에서 텍스트 추출\n",
    "        results = reader.readtext(image_file_path)\n",
    "        \n",
    "        # 텍스트 결과를 문자열로 변환\n",
    "        text = ' '.join([result[1] for result in results])\n",
    "        \n",
    "        # 텍스트 정리\n",
    "        cleaned_text = clean_text(text)\n",
    "        \n",
    "        # '통원'이 텍스트에 포함되어 있으면 target 값을 17로 변경\n",
    "        if '통원' in cleaned_text:\n",
    "            df.at[index, 'target'] = 17\n",
    "\n"
   ]
  },
  {
   "cell_type": "code",
   "execution_count": 7,
   "metadata": {},
   "outputs": [
    {
     "data": {
      "text/plain": [
       "'미니세묘써터다입원지용원확인서구민번도상서탕명역어버밥자너가터나회주장가업좌르넣일일월밑법입밑동연일자내티밑간상기명환자느본입어녀말하여위화은법딩므로지료하고마잎묘하옆라인합니다타용원입마기고다쉬삼공의하주의짙화법건고가바어미이다'"
      ]
     },
     "execution_count": 7,
     "metadata": {},
     "output_type": "execute_result"
    }
   ],
   "source": [
    "cleaned_text"
   ]
  },
  {
   "cell_type": "code",
   "execution_count": 8,
   "metadata": {},
   "outputs": [
    {
     "data": {
      "text/plain": [
       "24"
      ]
     },
     "execution_count": 8,
     "metadata": {},
     "output_type": "execute_result"
    }
   ],
   "source": [
    "len(df[df['target']==17])"
   ]
  },
  {
   "cell_type": "code",
   "execution_count": 9,
   "metadata": {},
   "outputs": [
    {
     "data": {
      "text/plain": [
       "Index([  20,   44,  137,  165,  168,  216,  276,  402,  474,  502,  605,  614,\n",
       "        728,  770,  917,  957, 1206, 1258, 1328, 1356, 1359, 1419, 1435, 1536],\n",
       "      dtype='int64')"
      ]
     },
     "execution_count": 9,
     "metadata": {},
     "output_type": "execute_result"
    }
   ],
   "source": [
    "df_index = df[df['target']==17].index\n",
    "df_index"
   ]
  },
  {
   "cell_type": "code",
   "execution_count": 10,
   "metadata": {},
   "outputs": [],
   "source": [
    "import os\n",
    "import pandas as pd\n",
    "import matplotlib.pyplot as plt\n",
    "import matplotlib.image as mpimg\n",
    "import math"
   ]
  },
  {
   "cell_type": "code",
   "execution_count": 11,
   "metadata": {},
   "outputs": [],
   "source": [
    "# 열 이름 수정 (필요한 열 이름으로 변경)\n",
    "filename_col = 'ID'     # 실제 열 이름으로 변경\n",
    "label_col = 'target'    # 실제 열 이름으로 변경\n",
    "\n",
    "data_dir = '../data'\n",
    "train_dir = os.path.join(data_dir, 'train')"
   ]
  },
  {
   "cell_type": "code",
   "execution_count": 12,
   "metadata": {},
   "outputs": [],
   "source": [
    "# 클래스 선택 (예: 클래스 0)\n",
    "selected_class = 17\n",
    "# 선택한 클래스의 데이터 필터링\n",
    "class_df = df[df['target'] == selected_class]\n"
   ]
  },
  {
   "cell_type": "code",
   "execution_count": 13,
   "metadata": {},
   "outputs": [],
   "source": [
    "# 시각화할 이미지 개수 설정\n",
    "num_images = 100\n",
    "\n",
    "# 행과 열 개수 계산\n",
    "num_cols = 5\n",
    "num_rows = math.ceil(num_images / num_cols)"
   ]
  },
  {
   "cell_type": "code",
   "execution_count": 14,
   "metadata": {},
   "outputs": [],
   "source": [
    "# # 이미지 시각화\n",
    "# plt.figure(figsize=(num_cols * 4, num_rows * 6))\n",
    "# for idx, row in enumerate(class_df.itertuples(), 1):\n",
    "#     img_path = os.path.join(train_dir, getattr(row, filename_col))\n",
    "#     img = mpimg.imread(img_path)\n",
    "#     plt.subplot(num_rows, num_cols, idx)\n",
    "#     plt.imshow(img)\n",
    "#     plt.title(getattr(row, filename_col))  # 파일 이름을 제목으로 설정\n",
    "#     plt.axis('off')\n",
    "\n",
    "# plt.tight_layout()\n",
    "# plt.show()"
   ]
  },
  {
   "cell_type": "code",
   "execution_count": 15,
   "metadata": {},
   "outputs": [
    {
     "data": {
      "text/plain": [
       "14"
      ]
     },
     "execution_count": 15,
     "metadata": {},
     "output_type": "execute_result"
    }
   ],
   "source": [
    "# 레이블 변경 안된 부분 수정\n",
    "image_name_17 = ['1495a1e3d1599fe1.jpg',\n",
    "                '3c5e27755a69ce2c.jpg',\n",
    "                '4a38e395726fbc06.jpg',\n",
    "                '4e5848a4ad483009.jpg',\n",
    "                '6804bbcb0644bfaa.jpg',\n",
    "                '733783e7eccfee05.jpg',\n",
    "                '739e4dea86e517c6.jpg',\n",
    "                '7960b14919ebf48a.jpg',\n",
    "                '81ca8f684b6aee30.jpg',\n",
    "                '8deba677308ce027.jpg',\n",
    "                'd87fe6344741e8e4.jpg',\n",
    "                'f66cc08a628bc668.jpg',\n",
    "                'f9e939c205cea5c6.jpg',\n",
    "                'feeade617aa68c45.jpg']\n",
    "len(image_name_17)"
   ]
  },
  {
   "cell_type": "code",
   "execution_count": 16,
   "metadata": {},
   "outputs": [
    {
     "name": "stdout",
     "output_type": "stream",
     "text": [
      "                       ID  target\n",
      "132  1495a1e3d1599fe1.jpg      17\n",
      "                       ID  target\n",
      "366  3c5e27755a69ce2c.jpg      17\n",
      "                       ID  target\n",
      "454  4a38e395726fbc06.jpg      17\n",
      "                       ID  target\n",
      "485  4e5848a4ad483009.jpg      17\n",
      "                       ID  target\n",
      "672  6804bbcb0644bfaa.jpg      17\n",
      "                       ID  target\n",
      "733  733783e7eccfee05.jpg      17\n",
      "                       ID  target\n",
      "738  739e4dea86e517c6.jpg      17\n",
      "                       ID  target\n",
      "782  7960b14919ebf48a.jpg      17\n",
      "                       ID  target\n",
      "833  81ca8f684b6aee30.jpg      17\n",
      "                       ID  target\n",
      "906  8deba677308ce027.jpg      17\n",
      "                        ID  target\n",
      "1348  d87fe6344741e8e4.jpg      17\n",
      "                        ID  target\n",
      "1523  f66cc08a628bc668.jpg      17\n",
      "                        ID  target\n",
      "1538  f9e939c205cea5c6.jpg      17\n",
      "                        ID  target\n",
      "1566  feeade617aa68c45.jpg      17\n"
     ]
    }
   ],
   "source": [
    "for img_list in image_name_17:\n",
    "    idx = df.loc[df['ID']==f'{img_list}', 'target'].index\n",
    "    df.loc[df['ID']==f'{img_list}', 'target'] = 17\n",
    "    print(df.loc[idx])"
   ]
  },
  {
   "cell_type": "code",
   "execution_count": 17,
   "metadata": {},
   "outputs": [
    {
     "name": "stdout",
     "output_type": "stream",
     "text": [
      "CSV 파일이 업데이트되었습니다.\n"
     ]
    }
   ],
   "source": [
    "# 수정된 데이터프레임을 새 CSV 파일로 저장\n",
    "df.to_csv('../data/train_updated.csv', index=False)\n",
    "\n",
    "print(\"CSV 파일이 업데이트되었습니다.\")"
   ]
  },
  {
   "cell_type": "code",
   "execution_count": 18,
   "metadata": {},
   "outputs": [
    {
     "data": {
      "text/plain": [
       "38"
      ]
     },
     "execution_count": 18,
     "metadata": {},
     "output_type": "execute_result"
    }
   ],
   "source": [
    "len(df[df['target']==17])"
   ]
  },
  {
   "cell_type": "code",
   "execution_count": 19,
   "metadata": {},
   "outputs": [
    {
     "data": {
      "text/plain": [
       "38"
      ]
     },
     "execution_count": 19,
     "metadata": {},
     "output_type": "execute_result"
    }
   ],
   "source": [
    "24+14\n"
   ]
  },
  {
   "cell_type": "code",
   "execution_count": null,
   "metadata": {},
   "outputs": [],
   "source": []
  }
 ],
 "metadata": {
  "kernelspec": {
   "display_name": "venv",
   "language": "python",
   "name": "python3"
  },
  "language_info": {
   "codemirror_mode": {
    "name": "ipython",
    "version": 3
   },
   "file_extension": ".py",
   "mimetype": "text/x-python",
   "name": "python",
   "nbconvert_exporter": "python",
   "pygments_lexer": "ipython3",
   "version": "3.10.14"
  }
 },
 "nbformat": 4,
 "nbformat_minor": 2
}
