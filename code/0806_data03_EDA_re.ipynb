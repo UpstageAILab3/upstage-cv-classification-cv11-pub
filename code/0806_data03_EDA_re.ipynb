{
 "cells": [
  {
   "cell_type": "code",
   "execution_count": 23,
   "metadata": {},
   "outputs": [],
   "source": [
    "import os\n",
    "import pandas as pd\n",
    "import matplotlib.pyplot as plt\n",
    "import matplotlib.image as mpimg\n",
    "import math"
   ]
  },
  {
   "cell_type": "code",
   "execution_count": null,
   "metadata": {},
   "outputs": [],
   "source": [
    "# 경로 설정\n",
    "data_dir = '../data'\n",
    "train_dir = os.path.join(data_dir, 'train')\n",
    "csv_file = os.path.join(data_dir, 'train_updated.csv')"
   ]
  },
  {
   "cell_type": "code",
   "execution_count": null,
   "metadata": {},
   "outputs": [],
   "source": [
    "# CSV 파일 로드\n",
    "df = pd.read_csv(csv_file)\n"
   ]
  },
  {
   "cell_type": "code",
   "execution_count": null,
   "metadata": {},
   "outputs": [],
   "source": [
    "# 클래스별 이미지 개수 계산\n",
    "class_counts = df['target'].value_counts().sort_index()\n",
    "\n",
    "# 막대 그래프 시각화\n",
    "plt.figure(figsize=(8, 3))\n",
    "class_counts.plot(kind='bar', color='skyblue')\n",
    "plt.xlabel('Class')\n",
    "plt.ylabel('Number of Images')\n",
    "plt.title('Number of Images per Class')\n",
    "plt.xticks(ticks=class_counts.index, labels=[f'Class {i}' for i in class_counts.index], rotation=45)\n",
    "plt.grid(axis='y')\n",
    "\n",
    "plt.show()"
   ]
  },
  {
   "cell_type": "code",
   "execution_count": null,
   "metadata": {},
   "outputs": [],
   "source": [
    "# 열 이름 수정 (필요한 열 이름으로 변경)\n",
    "filename_col = 'ID'     # 실제 열 이름으로 변경\n",
    "label_col = 'target'    # 실제 열 이름으로 변경"
   ]
  },
  {
   "cell_type": "code",
   "execution_count": null,
   "metadata": {},
   "outputs": [],
   "source": [
    "# # 클래스 선택 (예: 클래스 0)\n",
    "# selected_class = 7\n",
    "# # 선택한 클래스의 데이터 필터링\n",
    "# class_df = df[df['target'] == selected_class]\n"
   ]
  },
  {
   "cell_type": "code",
   "execution_count": null,
   "metadata": {},
   "outputs": [],
   "source": [
    "# # 시각화할 이미지 개수 설정\n",
    "# num_images = 100\n",
    "\n",
    "# # 행과 열 개수 계산\n",
    "# num_cols = 5\n",
    "# num_rows = math.ceil(num_images / num_cols)"
   ]
  },
  {
   "cell_type": "code",
   "execution_count": null,
   "metadata": {},
   "outputs": [],
   "source": [
    "# 샘플링된 데이터\n",
    "# sampled_df = class_df.sample(n=num_images)"
   ]
  },
  {
   "cell_type": "code",
   "execution_count": null,
   "metadata": {},
   "outputs": [],
   "source": [
    "# # 이미지 시각화\n",
    "# plt.figure(figsize=(num_cols * 4, num_rows * 6))\n",
    "# for idx, row in enumerate(class_df.itertuples(), 1):\n",
    "#     img_path = os.path.join(train_dir, getattr(row, filename_col))\n",
    "#     img = mpimg.imread(img_path)\n",
    "#     plt.subplot(num_rows, num_cols, idx)\n",
    "#     plt.imshow(img)\n",
    "#     plt.title(getattr(row, filename_col))  # 파일 이름을 제목으로 설정\n",
    "#     plt.axis('off')\n",
    "\n",
    "# plt.tight_layout()\n",
    "# plt.show()"
   ]
  },
  {
   "cell_type": "code",
   "execution_count": 1,
   "metadata": {},
   "outputs": [],
   "source": [
    "import os\n",
    "import pandas as pd\n",
    "from PIL import Image\n",
    "import numpy as np\n",
    "import albumentations as A\n",
    "from albumentations.pytorch import ToTensorV2\n",
    "from torch.utils.data import Dataset, DataLoader\n",
    "from torchvision import transforms\n"
   ]
  },
  {
   "cell_type": "code",
   "execution_count": 2,
   "metadata": {},
   "outputs": [],
   "source": [
    "\n",
    "# 데이터 증강 정의\n",
    "augmentation = A.Compose([\n",
    "    #A.RandomCrop(width=256, height=256, p=1.0),\n",
    "    A.Rotate(limit=40, p=1.0),\n",
    "    A.HorizontalFlip(p=0.5),\n",
    "    # A.VerticalFlip(p=0.5),\n",
    "    ToTensorV2()\n",
    "])\n",
    "\n"
   ]
  },
  {
   "cell_type": "code",
   "execution_count": 3,
   "metadata": {},
   "outputs": [],
   "source": [
    "class CustomDataset(Dataset):\n",
    "    def __init__(self, dataframe, class_id, image_folder, transform=None):\n",
    "        self.dataframe = dataframe\n",
    "        self.class_id = class_id\n",
    "        self.image_folder = image_folder\n",
    "        self.transform = transform\n",
    "        self.image_paths = self.dataframe[self.dataframe['target'] == self.class_id]['ID'].values\n",
    "\n",
    "    def __len__(self):\n",
    "        return len(self.image_paths)\n",
    "\n",
    "    def __getitem__(self, idx):\n",
    "        img_name = self.image_paths[idx]\n",
    "        img_path = os.path.join(self.image_folder, img_name)\n",
    "        image = Image.open(img_path).convert('RGB')\n",
    "\n",
    "        if self.transform:\n",
    "            augmented = self.transform(image=np.array(image))['image']\n",
    "            image = augmented\n",
    "\n",
    "        return image, img_name\n",
    "\n",
    "def save_augmented_images(image, original_name, output_folder, count):\n",
    "    saved_paths = []\n",
    "    for i in range(count):\n",
    "        # 확장자 문제를 피하기 위해 확장자를 명확히 지정\n",
    "        base_name, ext = os.path.splitext(original_name)\n",
    "        augmented_name = f\"augmented_{i}_{base_name}{ext}\"\n",
    "        output_path = os.path.join(output_folder, augmented_name)\n",
    "        img_pil = transforms.ToPILImage()(image)\n",
    "        img_pil.save(output_path)\n",
    "        saved_paths.append(augmented_name)\n",
    "    return saved_paths\n",
    "\n"
   ]
  },
  {
   "cell_type": "code",
   "execution_count": 4,
   "metadata": {},
   "outputs": [],
   "source": [
    "# 설정\n",
    "class_id_to_augment = 17  # 증강하고자 하는 클래스 ID  17/ 17, 13(0.38)\n",
    "output_folder = '../data/train_test/'\n",
    "output_count_per_image = 1\n",
    "\n",
    "\n",
    "# # 폴더가 없으면 생성\n",
    "if not os.path.exists(output_folder):\n",
    "    os.makedirs(output_folder)\n",
    "\n",
    "# 데이터 로드\n",
    "df = pd.read_csv('../data/train_updated.csv')\n",
    "\n",
    "# # 전체 데이터에서 일정 비율만큼 샘플 선택/ class 13일때 사용\n",
    "# augmentation_fraction = 1.1  # 전체 데이터의 50%를 증강\n",
    "# label_1 = df[df['target']==1]\n",
    "# sample_df_1 = label_1.sample(frac=augmentation_fraction, replace=True, random_state=42)  # frac=0.5는 50% 선택\n",
    "\n",
    "# # CustomDataset 인스턴스 생성/ class 13일때 사용\n",
    "# dataset = CustomDataset(dataframe=sample_df_1, class_id=class_id_to_augment, image_folder='../data/train', transform=augmentation)\n",
    "\n",
    "# CustomDataset 인스턴스 생성/ class 1, 14일때 사용\n",
    "dataset = CustomDataset(dataframe=df, class_id=class_id_to_augment, image_folder='../data/train', transform=augmentation)\n",
    "\n",
    "# DataLoader 설정\n",
    "data_loader = DataLoader(dataset, batch_size=1, shuffle=False)\n",
    "\n",
    "\n"
   ]
  },
  {
   "cell_type": "code",
   "execution_count": 5,
   "metadata": {},
   "outputs": [],
   "source": [
    "# 증강된 이미지와 원본 이미지 정보를 저장할 리스트\n",
    "augmented_data = []\n",
    "\n",
    "# 데이터 증강 및 저장\n",
    "for i, (image, original_name) in enumerate(data_loader):\n",
    "    image = image[0]  # batch_size가 1이므로 첫 번째 아이템만 사용\n",
    "    original_name = original_name[0]  # 튜플의 첫 번째 요소가 원본 이미지 이름\n",
    "    augmented_names = save_augmented_images(image, original_name, output_folder, output_count_per_image)\n",
    "    for augmented_name in augmented_names:\n",
    "        augmented_data.append({\n",
    "            'ID': augmented_name,\n",
    "            'target': class_id_to_augment\n",
    "        })"
   ]
  },
  {
   "cell_type": "code",
   "execution_count": 6,
   "metadata": {},
   "outputs": [
    {
     "name": "stdout",
     "output_type": "stream",
     "text": [
      "증강 완료 및 CSV 파일 업데이트 완료.\n"
     ]
    }
   ],
   "source": [
    "# 증강된 데이터 정보를 원본 데이터프레임에 추가\n",
    "augmented_df = pd.DataFrame(augmented_data)\n",
    "augmented_df.to_csv('../data/train_updated_17_1.csv', index=False)\n",
    "\n",
    "print(\"증강 완료 및 CSV 파일 업데이트 완료.\")\n",
    "\n"
   ]
  },
  {
   "cell_type": "code",
   "execution_count": 7,
   "metadata": {},
   "outputs": [],
   "source": [
    "# # 폴더가 없으면 생성\n",
    "# if not os.path.exists(output_folder):\n",
    "#     os.makedirs(output_folder)\n",
    "\n",
    "class_id_to_augment = 17\n",
    "\n",
    "# 데이터 로드\n",
    "df = pd.read_csv('../data/train_updated_17_1.csv')\n",
    "\n",
    "# 전체 데이터에서 일정 비율만큼 샘플 선택/ class 13일때 사용\n",
    "augmentation_fraction = 0.6  # 전체 데이터의 50%를 증강\n",
    "label_17 = df[df['target']==17]\n",
    "sample_df = label_17.sample(frac=augmentation_fraction, random_state=42)  # frac=0.5는 50% 선택\n",
    "\n",
    "# CustomDataset 인스턴스 생성/ class 13일때 사용\n",
    "dataset = CustomDataset(dataframe=sample_df, class_id=class_id_to_augment, image_folder='../data/train_test/', transform=augmentation)\n",
    "\n",
    "# # CustomDataset 인스턴스 생성/ class 1, 14일때 사용\n",
    "# dataset = CustomDataset(dataframe=df, class_id=class_id_to_augment, image_folder='../data/train', transform=augmentation)\n",
    "\n",
    "# DataLoader 설정\n",
    "data_loader = DataLoader(dataset, batch_size=1, shuffle=False)\n",
    "\n",
    "\n"
   ]
  },
  {
   "cell_type": "code",
   "execution_count": 8,
   "metadata": {},
   "outputs": [],
   "source": [
    "# 증강된 이미지와 원본 이미지 정보를 저장할 리스트\n",
    "augmented_data = []\n",
    "\n",
    "# 데이터 증강 및 저장\n",
    "for i, (image, original_name) in enumerate(data_loader):\n",
    "    image = image[0]  # batch_size가 1이므로 첫 번째 아이템만 사용\n",
    "    original_name = original_name[0]  # 튜플의 첫 번째 요소가 원본 이미지 이름\n",
    "    augmented_names = save_augmented_images(image, original_name, output_folder, output_count_per_image)\n",
    "    for augmented_name in augmented_names:\n",
    "        augmented_data.append({\n",
    "            'ID': augmented_name,\n",
    "            'target': class_id_to_augment\n",
    "        })"
   ]
  },
  {
   "cell_type": "code",
   "execution_count": 9,
   "metadata": {},
   "outputs": [
    {
     "name": "stdout",
     "output_type": "stream",
     "text": [
      "증강 완료 및 CSV 파일 업데이트 완료.\n"
     ]
    }
   ],
   "source": [
    "# 증강된 데이터 정보를 원본 데이터프레임에 추가\n",
    "augmented_df = pd.DataFrame(augmented_data)\n",
    "augmented_df.to_csv('../data/train_updated_17_2.csv', index=False)\n",
    "\n",
    "print(\"증강 완료 및 CSV 파일 업데이트 완료.\")\n",
    "\n"
   ]
  },
  {
   "cell_type": "code",
   "execution_count": 10,
   "metadata": {},
   "outputs": [],
   "source": [
    "# # 폴더가 없으면 생성\n",
    "# if not os.path.exists(output_folder):\n",
    "#     os.makedirs(output_folder)\n",
    "\n",
    "class_id_to_augment = 7\n",
    "\n",
    "# 데이터 로드\n",
    "df = pd.read_csv('../data/train_updated.csv')\n",
    "\n",
    "# 전체 데이터에서 일정 비율만큼 샘플 선택/ class 13일때 사용\n",
    "augmentation_fraction = 0.6  # 전체 데이터의 50%를 증강\n",
    "label_7 = df[df['target']==7]\n",
    "sample_df = label_7.sample(frac=augmentation_fraction, random_state=42)  # frac=0.5는 50% 선택\n",
    "\n",
    "# CustomDataset 인스턴스 생성/ class 13일때 사용\n",
    "dataset = CustomDataset(dataframe=sample_df, class_id=class_id_to_augment, image_folder='../data/train/', transform=augmentation)\n",
    "\n",
    "# # CustomDataset 인스턴스 생성/ class 1, 14일때 사용\n",
    "# dataset = CustomDataset(dataframe=df, class_id=class_id_to_augment, image_folder='../data/train', transform=augmentation)\n",
    "\n",
    "# DataLoader 설정\n",
    "data_loader = DataLoader(dataset, batch_size=1, shuffle=False)\n",
    "\n",
    "\n"
   ]
  },
  {
   "cell_type": "code",
   "execution_count": 11,
   "metadata": {},
   "outputs": [],
   "source": [
    "# 증강된 이미지와 원본 이미지 정보를 저장할 리스트\n",
    "augmented_data = []\n",
    "\n",
    "# 데이터 증강 및 저장\n",
    "for i, (image, original_name) in enumerate(data_loader):\n",
    "    image = image[0]  # batch_size가 1이므로 첫 번째 아이템만 사용\n",
    "    original_name = original_name[0]  # 튜플의 첫 번째 요소가 원본 이미지 이름\n",
    "    augmented_names = save_augmented_images(image, original_name, output_folder, output_count_per_image)\n",
    "    for augmented_name in augmented_names:\n",
    "        augmented_data.append({\n",
    "            'ID': augmented_name,\n",
    "            'target': class_id_to_augment\n",
    "        })"
   ]
  },
  {
   "cell_type": "code",
   "execution_count": 12,
   "metadata": {},
   "outputs": [
    {
     "name": "stdout",
     "output_type": "stream",
     "text": [
      "증강 완료 및 CSV 파일 업데이트 완료.\n"
     ]
    }
   ],
   "source": [
    "# 증강된 데이터 정보를 원본 데이터프레임에 추가\n",
    "augmented_df = pd.DataFrame(augmented_data)\n",
    "augmented_df.to_csv('../data/train_updated_7.csv', index=False)\n",
    "\n",
    "print(\"증강 완료 및 CSV 파일 업데이트 완료.\")\n",
    "\n"
   ]
  },
  {
   "cell_type": "code",
   "execution_count": null,
   "metadata": {},
   "outputs": [],
   "source": [
    "\n",
    "\n"
   ]
  },
  {
   "cell_type": "code",
   "execution_count": 13,
   "metadata": {},
   "outputs": [],
   "source": [
    "data_path = '../data/'\n",
    "df = pd.read_csv(f'{data_path}train_updated.csv')\n",
    "df1 = pd.read_csv(f'{data_path}train_updated_7.csv')\n",
    "df2 = pd.read_csv(f'{data_path}train_updated_17_1.csv')\n",
    "df3 = pd.read_csv(f'{data_path}train_updated_17_2.csv')\n"
   ]
  },
  {
   "cell_type": "code",
   "execution_count": 14,
   "metadata": {},
   "outputs": [],
   "source": [
    "new_df = pd.concat([df,df1,df2,df3],axis=0)"
   ]
  },
  {
   "cell_type": "code",
   "execution_count": 15,
   "metadata": {},
   "outputs": [
    {
     "data": {
      "text/html": [
       "<div>\n",
       "<style scoped>\n",
       "    .dataframe tbody tr th:only-of-type {\n",
       "        vertical-align: middle;\n",
       "    }\n",
       "\n",
       "    .dataframe tbody tr th {\n",
       "        vertical-align: top;\n",
       "    }\n",
       "\n",
       "    .dataframe thead th {\n",
       "        text-align: right;\n",
       "    }\n",
       "</style>\n",
       "<table border=\"1\" class=\"dataframe\">\n",
       "  <thead>\n",
       "    <tr style=\"text-align: right;\">\n",
       "      <th></th>\n",
       "      <th>ID</th>\n",
       "      <th>target</th>\n",
       "    </tr>\n",
       "  </thead>\n",
       "  <tbody>\n",
       "    <tr>\n",
       "      <th>0</th>\n",
       "      <td>002f99746285dfdd.jpg</td>\n",
       "      <td>16</td>\n",
       "    </tr>\n",
       "    <tr>\n",
       "      <th>1</th>\n",
       "      <td>008ccd231e1fea5d.jpg</td>\n",
       "      <td>10</td>\n",
       "    </tr>\n",
       "    <tr>\n",
       "      <th>2</th>\n",
       "      <td>008f5911bfda7695.jpg</td>\n",
       "      <td>10</td>\n",
       "    </tr>\n",
       "    <tr>\n",
       "      <th>3</th>\n",
       "      <td>009235e4c9c07af5.jpg</td>\n",
       "      <td>4</td>\n",
       "    </tr>\n",
       "    <tr>\n",
       "      <th>4</th>\n",
       "      <td>00b2f44967580c74.jpg</td>\n",
       "      <td>16</td>\n",
       "    </tr>\n",
       "    <tr>\n",
       "      <th>...</th>\n",
       "      <td>...</td>\n",
       "      <td>...</td>\n",
       "    </tr>\n",
       "    <tr>\n",
       "      <th>18</th>\n",
       "      <td>augmented_0_augmented_0_988fa031ea841a40.jpg</td>\n",
       "      <td>17</td>\n",
       "    </tr>\n",
       "    <tr>\n",
       "      <th>19</th>\n",
       "      <td>augmented_0_augmented_0_1af85d095317707e.jpg</td>\n",
       "      <td>17</td>\n",
       "    </tr>\n",
       "    <tr>\n",
       "      <th>20</th>\n",
       "      <td>augmented_0_augmented_0_4ca2ec8f7f492b0d.jpg</td>\n",
       "      <td>17</td>\n",
       "    </tr>\n",
       "    <tr>\n",
       "      <th>21</th>\n",
       "      <td>augmented_0_augmented_0_067f25e0435ab78b.jpg</td>\n",
       "      <td>17</td>\n",
       "    </tr>\n",
       "    <tr>\n",
       "      <th>22</th>\n",
       "      <td>augmented_0_augmented_0_feeade617aa68c45.jpg</td>\n",
       "      <td>17</td>\n",
       "    </tr>\n",
       "  </tbody>\n",
       "</table>\n",
       "<p>1791 rows × 2 columns</p>\n",
       "</div>"
      ],
      "text/plain": [
       "                                              ID  target\n",
       "0                           002f99746285dfdd.jpg      16\n",
       "1                           008ccd231e1fea5d.jpg      10\n",
       "2                           008f5911bfda7695.jpg      10\n",
       "3                           009235e4c9c07af5.jpg       4\n",
       "4                           00b2f44967580c74.jpg      16\n",
       "..                                           ...     ...\n",
       "18  augmented_0_augmented_0_988fa031ea841a40.jpg      17\n",
       "19  augmented_0_augmented_0_1af85d095317707e.jpg      17\n",
       "20  augmented_0_augmented_0_4ca2ec8f7f492b0d.jpg      17\n",
       "21  augmented_0_augmented_0_067f25e0435ab78b.jpg      17\n",
       "22  augmented_0_augmented_0_feeade617aa68c45.jpg      17\n",
       "\n",
       "[1791 rows x 2 columns]"
      ]
     },
     "execution_count": 15,
     "metadata": {},
     "output_type": "execute_result"
    }
   ],
   "source": [
    "new_df"
   ]
  },
  {
   "cell_type": "code",
   "execution_count": 16,
   "metadata": {},
   "outputs": [],
   "source": [
    "import pandas as pd"
   ]
  },
  {
   "cell_type": "code",
   "execution_count": 18,
   "metadata": {},
   "outputs": [],
   "source": [
    "new_df.to_csv(\"../data/new_train_class_17.csv\", index=False)"
   ]
  },
  {
   "cell_type": "code",
   "execution_count": 19,
   "metadata": {},
   "outputs": [],
   "source": [
    "new_df = pd.read_csv(\"../data/new_train_class_17.csv\")"
   ]
  },
  {
   "cell_type": "code",
   "execution_count": 20,
   "metadata": {},
   "outputs": [
    {
     "data": {
      "text/html": [
       "<div>\n",
       "<style scoped>\n",
       "    .dataframe tbody tr th:only-of-type {\n",
       "        vertical-align: middle;\n",
       "    }\n",
       "\n",
       "    .dataframe tbody tr th {\n",
       "        vertical-align: top;\n",
       "    }\n",
       "\n",
       "    .dataframe thead th {\n",
       "        text-align: right;\n",
       "    }\n",
       "</style>\n",
       "<table border=\"1\" class=\"dataframe\">\n",
       "  <thead>\n",
       "    <tr style=\"text-align: right;\">\n",
       "      <th></th>\n",
       "      <th>ID</th>\n",
       "      <th>target</th>\n",
       "    </tr>\n",
       "  </thead>\n",
       "  <tbody>\n",
       "    <tr>\n",
       "      <th>0</th>\n",
       "      <td>002f99746285dfdd.jpg</td>\n",
       "      <td>16</td>\n",
       "    </tr>\n",
       "    <tr>\n",
       "      <th>1</th>\n",
       "      <td>008ccd231e1fea5d.jpg</td>\n",
       "      <td>10</td>\n",
       "    </tr>\n",
       "    <tr>\n",
       "      <th>2</th>\n",
       "      <td>008f5911bfda7695.jpg</td>\n",
       "      <td>10</td>\n",
       "    </tr>\n",
       "    <tr>\n",
       "      <th>3</th>\n",
       "      <td>009235e4c9c07af5.jpg</td>\n",
       "      <td>4</td>\n",
       "    </tr>\n",
       "    <tr>\n",
       "      <th>4</th>\n",
       "      <td>00b2f44967580c74.jpg</td>\n",
       "      <td>16</td>\n",
       "    </tr>\n",
       "    <tr>\n",
       "      <th>...</th>\n",
       "      <td>...</td>\n",
       "      <td>...</td>\n",
       "    </tr>\n",
       "    <tr>\n",
       "      <th>1786</th>\n",
       "      <td>augmented_0_augmented_0_988fa031ea841a40.jpg</td>\n",
       "      <td>17</td>\n",
       "    </tr>\n",
       "    <tr>\n",
       "      <th>1787</th>\n",
       "      <td>augmented_0_augmented_0_1af85d095317707e.jpg</td>\n",
       "      <td>17</td>\n",
       "    </tr>\n",
       "    <tr>\n",
       "      <th>1788</th>\n",
       "      <td>augmented_0_augmented_0_4ca2ec8f7f492b0d.jpg</td>\n",
       "      <td>17</td>\n",
       "    </tr>\n",
       "    <tr>\n",
       "      <th>1789</th>\n",
       "      <td>augmented_0_augmented_0_067f25e0435ab78b.jpg</td>\n",
       "      <td>17</td>\n",
       "    </tr>\n",
       "    <tr>\n",
       "      <th>1790</th>\n",
       "      <td>augmented_0_augmented_0_feeade617aa68c45.jpg</td>\n",
       "      <td>17</td>\n",
       "    </tr>\n",
       "  </tbody>\n",
       "</table>\n",
       "<p>1791 rows × 2 columns</p>\n",
       "</div>"
      ],
      "text/plain": [
       "                                                ID  target\n",
       "0                             002f99746285dfdd.jpg      16\n",
       "1                             008ccd231e1fea5d.jpg      10\n",
       "2                             008f5911bfda7695.jpg      10\n",
       "3                             009235e4c9c07af5.jpg       4\n",
       "4                             00b2f44967580c74.jpg      16\n",
       "...                                            ...     ...\n",
       "1786  augmented_0_augmented_0_988fa031ea841a40.jpg      17\n",
       "1787  augmented_0_augmented_0_1af85d095317707e.jpg      17\n",
       "1788  augmented_0_augmented_0_4ca2ec8f7f492b0d.jpg      17\n",
       "1789  augmented_0_augmented_0_067f25e0435ab78b.jpg      17\n",
       "1790  augmented_0_augmented_0_feeade617aa68c45.jpg      17\n",
       "\n",
       "[1791 rows x 2 columns]"
      ]
     },
     "execution_count": 20,
     "metadata": {},
     "output_type": "execute_result"
    }
   ],
   "source": [
    "new_df"
   ]
  },
  {
   "cell_type": "code",
   "execution_count": 24,
   "metadata": {},
   "outputs": [
    {
     "data": {
      "image/png": "[encoded data removed]",
      "text/plain": [
       "<Figure size 800x300 with 1 Axes>"
      ]
     },
     "metadata": {},
     "output_type": "display_data"
    }
   ],
   "source": [
    "# 클래스별 이미지 개수 계산\n",
    "class_counts = new_df['target'].value_counts().sort_index()\n",
    "\n",
    "# 막대 그래프 시각화\n",
    "plt.figure(figsize=(8, 3))\n",
    "class_counts.plot(kind='bar', color='skyblue')\n",
    "plt.xlabel('Class')\n",
    "plt.ylabel('Number of Images')\n",
    "plt.title('Number of Images per Class')\n",
    "plt.xticks(ticks=class_counts.index, labels=[f'Class {i}' for i in class_counts.index], rotation=45)\n",
    "plt.grid(axis='y')\n",
    "\n",
    "plt.show()"
   ]
  },
  {
   "cell_type": "code",
   "execution_count": 22,
   "metadata": {},
   "outputs": [],
   "source": [
    "# new_df.to_csv('../data/new_train.csv', index=False)"
   ]
  },
  {
   "cell_type": "code",
   "execution_count": null,
   "metadata": {},
   "outputs": [],
   "source": []
  }
 ],
 "metadata": {
  "kernelspec": {
   "display_name": "venv",
   "language": "python",
   "name": "python3"
  },
  "language_info": {
   "codemirror_mode": {
    "name": "ipython",
    "version": 3
   },
   "file_extension": ".py",
   "mimetype": "text/x-python",
   "name": "python",
   "nbconvert_exporter": "python",
   "pygments_lexer": "ipython3",
   "version": "3.10.14"
  }
 },
 "nbformat": 4,
 "nbformat_minor": 2
}
