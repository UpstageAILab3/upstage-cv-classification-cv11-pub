{
 "cells": [
  {
   "cell_type": "code",
   "execution_count": 41,
   "metadata": {},
   "outputs": [],
   "source": [
    "import common\n",
    "\n",
    "import os\n",
    "import time\n",
    "import random\n",
    "\n",
    "import timm\n",
    "import torch\n",
    "import albumentations as A\n",
    "import pandas as pd\n",
    "import numpy as np\n",
    "import torch.nn as nn\n",
    "from albumentations.pytorch import ToTensorV2\n",
    "from torch.optim import Adam\n",
    "from torchvision import transforms\n",
    "from torch.utils.data import Dataset, DataLoader\n",
    "from PIL import Image\n",
    "from tqdm import tqdm\n",
    "from sklearn.metrics import accuracy_score, f1_score\n",
    "from sklearn.model_selection import train_test_split\n",
    "\n",
    "from dotenv import load_dotenv\n",
    "from datetime import datetime\n",
    "from zoneinfo import ZoneInfo\n",
    "import wandb"
   ]
  },
  {
   "cell_type": "code",
   "execution_count": 42,
   "metadata": {},
   "outputs": [
    {
     "data": {
      "text/plain": [
       "device(type='cuda')"
      ]
     },
     "execution_count": 42,
     "metadata": {},
     "output_type": "execute_result"
    }
   ],
   "source": [
    "is_soft_voting = True\n",
    "augment_ratio = 1\n",
    "\n",
    "device = torch.device('cuda' if torch.cuda.is_available() else 'cpu')\n",
    "device"
   ]
  },
  {
   "cell_type": "code",
   "execution_count": 43,
   "metadata": {},
   "outputs": [],
   "source": [
    "# ljm 이 생성한 모델 checkpoint\n",
    "cp_path_list = [\n",
    "   'model_bak2/cp-tiny_vit_21m_384.dist_in22k_ft_in1k_sd_42_epc_1_aug_200_vl_0.2419_va_0.9389_vf1_0.9370_fold_1_folds_2_PICK.pt',\n",
    "   'model_bak2/cp-tiny_vit_21m_384.dist_in22k_ft_in1k_sd_42_epc_4_aug_200_vl_0.2985_va_0.9412_vf1_0.9405_fold_2_folds_2_PICK.pt', \n",
    "]"
   ]
  },
  {
   "cell_type": "code",
   "execution_count": 44,
   "metadata": {},
   "outputs": [],
   "source": [
    "# jbc 님이 생성한 모델 (checkpoint 아님)\n",
    "not_cp_info_list = [\n",
    "    {\n",
    "        'path': 'model_jbc/efficientnet_b3.ra2_in1k_256SIZE_16BATCH_5EPOCH_200AUG_best_model.pth',\n",
    "        'arch': 'efficientnet_b3.ra2_in1k',\n",
    "        'img_size': 256,\n",
    "        'batch_size': 16,\n",
    "    },\n",
    "    {\n",
    "        'path': 'model_jbc/efficientnet_b5.sw_in12k_ft_in1k_384SIZE_16BATCH_5EPOCH_200_AUG_0.8_best_model.pth',\n",
    "        'arch': 'efficientnet_b5.sw_in12k_ft_in1k',\n",
    "        'img_size': 384,\n",
    "        'batch_size': 16,\n",
    "    },\n",
    "    {\n",
    "        'path': 'model_jbc/efficientnetv2_rw_m.agc_in1k_256SIZE_16BATCH_5EPOCH_200AUG_best_model.pth',\n",
    "        'arch': 'efficientnetv2_rw_m.agc_in1k',\n",
    "        'img_size': 256,\n",
    "        'batch_size': 16,\n",
    "    },\n",
    "    {\n",
    "        'path': 'model_jbc/tiny_vit_21m_384.dist_in22k_ft_in1k_384SIZE_16BATCH_5EPOCH_200_AUG_0.9_best_model.pth',\n",
    "        'arch': 'tiny_vit_21m_384.dist_in22k_ft_in1k',\n",
    "        'img_size': 384,\n",
    "        'batch_size': 16,\n",
    "    }      \n",
    "]"
   ]
  },
  {
   "cell_type": "code",
   "execution_count": 45,
   "metadata": {},
   "outputs": [],
   "source": [
    "model_list = []\n",
    "tst_loader_list = []"
   ]
  },
  {
   "cell_type": "code",
   "execution_count": 46,
   "metadata": {},
   "outputs": [
    {
     "name": "stdout",
     "output_type": "stream",
     "text": [
      "tiny_vit_21m_384.dist_in22k_ft_in1k 384 32\n",
      "tiny_vit_21m_384.dist_in22k_ft_in1k 384 32\n",
      "2 2\n"
     ]
    }
   ],
   "source": [
    "for cp_path in cp_path_list:\n",
    "    checkpoint = torch.load(cp_path, map_location = device)\n",
    "    \n",
    "    print(checkpoint['model'], checkpoint['tst_img_size'], checkpoint['batch_size'])\n",
    "    \n",
    "    model = timm.create_model(\n",
    "        checkpoint['model'],\n",
    "        pretrained = False,\n",
    "        num_classes = 17,\n",
    "    ).to(device)\n",
    "    \n",
    "    model.load_state_dict(checkpoint['model_state_dict'])    \n",
    "    model_list.append(model)\n",
    "    \n",
    "    ##\n",
    "    tst_transform = common.create_tst_transform(checkpoint['tst_img_size'])\n",
    "\n",
    "    tst_dataset = common.ImageDataset(\n",
    "        \"datasets_fin/sample_submission.csv\",\n",
    "        \"datasets_fin/test/\",\n",
    "        transform = tst_transform\n",
    "    )\n",
    "\n",
    "    tst_loader = DataLoader(\n",
    "        tst_dataset,\n",
    "        batch_size = checkpoint['batch_size'],\n",
    "        shuffle = False,\n",
    "        num_workers = 2,\n",
    "        pin_memory = True\n",
    "    )\n",
    "    \n",
    "    tst_loader_list.append(tst_loader)\n",
    "\n",
    "print(len(model_list), len(tst_loader_list))"
   ]
  },
  {
   "cell_type": "code",
   "execution_count": 47,
   "metadata": {},
   "outputs": [
    {
     "name": "stdout",
     "output_type": "stream",
     "text": [
      "efficientnet_b3.ra2_in1k 256 16\n",
      "efficientnet_b5.sw_in12k_ft_in1k 384 16\n",
      "efficientnetv2_rw_m.agc_in1k 256 16\n",
      "tiny_vit_21m_384.dist_in22k_ft_in1k 384 16\n",
      "6 6\n"
     ]
    }
   ],
   "source": [
    "for not_cp_info in not_cp_info_list:\n",
    "    print(not_cp_info['arch'], not_cp_info['img_size'], not_cp_info['batch_size'])\n",
    "    \n",
    "    model = timm.create_model(\n",
    "        not_cp_info['arch'],\n",
    "        pretrained = False,\n",
    "        num_classes = 17,\n",
    "    ).to(device)\n",
    "    \n",
    "    model.load_state_dict(torch.load(not_cp_info['path'], map_location = device))\n",
    "    model_list.append(model)\n",
    "    \n",
    "    ##\n",
    "    tst_transform = common.create_tst_transform(not_cp_info['img_size'])\n",
    "\n",
    "    tst_dataset = common.ImageDataset(\n",
    "        \"datasets_fin/sample_submission.csv\",\n",
    "        \"datasets_fin/test/\",\n",
    "        transform = tst_transform\n",
    "    )\n",
    "\n",
    "    tst_loader = DataLoader(\n",
    "        tst_dataset,\n",
    "        batch_size = not_cp_info['batch_size'],\n",
    "        shuffle = False,\n",
    "        num_workers = 2,\n",
    "        pin_memory = True\n",
    "    )\n",
    "    \n",
    "    tst_loader_list.append(tst_loader)\n",
    "\n",
    "print(len(model_list), len(tst_loader_list))"
   ]
  },
  {
   "cell_type": "code",
   "execution_count": 48,
   "metadata": {},
   "outputs": [
    {
     "name": "stderr",
     "output_type": "stream",
     "text": [
      "100%|██████████| 99/99 [00:11<00:00,  8.99it/s]\n",
      "100%|██████████| 99/99 [00:11<00:00,  8.95it/s]\n",
      "100%|██████████| 197/197 [00:06<00:00, 29.22it/s]\n",
      "100%|██████████| 197/197 [00:11<00:00, 17.00it/s]\n",
      "100%|██████████| 197/197 [00:06<00:00, 29.11it/s]\n",
      "100%|██████████| 197/197 [00:11<00:00, 17.55it/s]\n"
     ]
    }
   ],
   "source": [
    "preds_list = []\n",
    "\n",
    "for model, tst_loader in zip(model_list, tst_loader_list):\n",
    "    preds = common.get_preds_list_by_tst_loader(model, tst_loader, device, is_soft_voting)\n",
    "    preds_list.append(preds)"
   ]
  },
  {
   "cell_type": "code",
   "execution_count": 49,
   "metadata": {},
   "outputs": [],
   "source": [
    "def get_all_targets_count():\n",
    "    sample_submission_df = pd.read_csv(\"datasets_fin/sample_submission.csv\")\n",
    "    return len(sample_submission_df)\n",
    "    \n",
    "def hard_voting(predictions):\n",
    "    predictions = np.asarray(predictions)\n",
    "    return np.apply_along_axis(lambda x: np.bincount(x).argmax(), axis=0, arr=predictions)\n",
    "\n",
    "def soft_voting(predictions):\n",
    "    predictions = np.asarray(predictions)\n",
    "    mean_axis0 = np.mean(predictions, axis=0)\n",
    "    \n",
    "    # 증강된 데이터에 대한 예측값도 고려하기.\n",
    "    all_targets_count = get_all_targets_count()\n",
    "    \n",
    "    aug_size = len(mean_axis0) / all_targets_count\n",
    "    assert len(mean_axis0) % all_targets_count == 0\n",
    "    aug_size = int(aug_size)\n",
    "    \n",
    "    if aug_size > 1:\n",
    "        bulk_list = []\n",
    "        step = 0\n",
    "        \n",
    "        for i in range(0, aug_size):\n",
    "            bulk_list.append(mean_axis0[step:step + all_targets_count])\n",
    "            step += all_targets_count\n",
    "        \n",
    "        bulk_list = np.asarray(bulk_list)\n",
    "        mean_axis0 = np.mean(bulk_list, axis=0)\n",
    "        \n",
    "    return mean_axis0.argmax(axis=1)\n",
    "\n",
    "# 최종 예측\n",
    "if is_soft_voting:\n",
    "    final_pred = soft_voting(preds_list)\n",
    "else:\n",
    "    final_pred = hard_voting(preds_list)\n",
    "\n",
    "# # csv 로 저장\n",
    "common.preds_list_to_save_to_csv(final_pred, tst_loader, 'pred_ensemble.csv')"
   ]
  }
 ],
 "metadata": {
  "kernelspec": {
   "display_name": "base",
   "language": "python",
   "name": "python3"
  },
  "language_info": {
   "codemirror_mode": {
    "name": "ipython",
    "version": 3
   },
   "file_extension": ".py",
   "mimetype": "text/x-python",
   "name": "python",
   "nbconvert_exporter": "python",
   "pygments_lexer": "ipython3",
   "version": "3.10.13"
  }
 },
 "nbformat": 4,
 "nbformat_minor": 2
}
