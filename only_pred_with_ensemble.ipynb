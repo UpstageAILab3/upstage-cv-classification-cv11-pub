{
 "cells": [
  {
   "cell_type": "code",
   "execution_count": 1,
   "metadata": {},
   "outputs": [],
   "source": [
    "import common\n",
    "\n",
    "import os\n",
    "import time\n",
    "import random\n",
    "\n",
    "import timm\n",
    "import torch\n",
    "import albumentations as A\n",
    "import pandas as pd\n",
    "import numpy as np\n",
    "import torch.nn as nn\n",
    "from albumentations.pytorch import ToTensorV2\n",
    "from torch.optim import Adam\n",
    "from torchvision import transforms\n",
    "from torch.utils.data import Dataset, DataLoader\n",
    "from PIL import Image\n",
    "from tqdm import tqdm\n",
    "from sklearn.metrics import accuracy_score, f1_score\n",
    "from sklearn.model_selection import train_test_split\n",
    "\n",
    "from dotenv import load_dotenv\n",
    "from datetime import datetime\n",
    "from zoneinfo import ZoneInfo\n",
    "import wandb"
   ]
  },
  {
   "cell_type": "code",
   "execution_count": 2,
   "metadata": {},
   "outputs": [
    {
     "data": {
      "text/plain": [
       "device(type='cuda')"
      ]
     },
     "execution_count": 2,
     "metadata": {},
     "output_type": "execute_result"
    }
   ],
   "source": [
    "device = torch.device('cuda' if torch.cuda.is_available() else 'cpu')\n",
    "device"
   ]
  },
  {
   "cell_type": "code",
   "execution_count": 3,
   "metadata": {},
   "outputs": [
    {
     "name": "stdout",
     "output_type": "stream",
     "text": [
      "resnet34 32 32\n",
      "resnet34 32 32\n",
      "2 2\n"
     ]
    }
   ],
   "source": [
    "model_checkpoint_filename_list = ['checkpoint-resnet34_seed_42_epoch_0_isFull_False.pt', \n",
    "                                  'checkpoint-resnet34_seed_42_epoch_2_isFull_False.pt']\n",
    "\n",
    "model_list = []\n",
    "tst_loader_list = []\n",
    "\n",
    "for cp_filename in model_checkpoint_filename_list:\n",
    "    checkpoint = torch.load(cp_filename, map_location = device)\n",
    "    \n",
    "    print(checkpoint['model'], checkpoint['tst_img_size'], checkpoint['batch_size'])\n",
    "    \n",
    "    model = timm.create_model(\n",
    "        checkpoint['model'],\n",
    "        pretrained = True,\n",
    "        num_classes = 17,\n",
    "    ).to(device)\n",
    "    \n",
    "    model.load_state_dict(checkpoint['model_state_dict'])    \n",
    "    model_list.append(model)\n",
    "    \n",
    "    ##\n",
    "    tst_transform = common.create_tst_transform(checkpoint['tst_img_size'])\n",
    "\n",
    "    tst_dataset = common.ImageDataset(\n",
    "        \"datasets_fin/sample_submission.csv\",\n",
    "        \"datasets_fin/test/\",\n",
    "        transform = tst_transform\n",
    "    )\n",
    "\n",
    "    tst_loader = DataLoader(\n",
    "        tst_dataset,\n",
    "        batch_size = checkpoint['batch_size'],\n",
    "        shuffle = False,\n",
    "        num_workers = 0,\n",
    "        pin_memory = True\n",
    "    )\n",
    "    \n",
    "    tst_loader_list.append(tst_loader)\n",
    "\n",
    "print(len(model_list), len(tst_loader_list))"
   ]
  },
  {
   "cell_type": "code",
   "execution_count": 4,
   "metadata": {},
   "outputs": [
    {
     "name": "stderr",
     "output_type": "stream",
     "text": [
      "100%|██████████| 99/99 [00:11<00:00,  8.77it/s]\n",
      "100%|██████████| 99/99 [00:10<00:00,  9.02it/s]\n"
     ]
    }
   ],
   "source": [
    "preds_list = []\n",
    "\n",
    "for model, tst_loader in zip(model_list, tst_loader_list):\n",
    "    preds = common.get_preds_list_by_tst_loader(model, tst_loader, device)\n",
    "    preds_list.append(preds)"
   ]
  },
  {
   "cell_type": "code",
   "execution_count": 6,
   "metadata": {},
   "outputs": [],
   "source": [
    "# hard voting 구현\n",
    "def hard_voting(predictions):\n",
    "    predictions = np.asarray(predictions)\n",
    "    return np.apply_along_axis(lambda x: np.bincount(x).argmax(), axis=0, arr=predictions)\n",
    "\n",
    "# 최종 예측\n",
    "final_pred = hard_voting(preds_list)\n",
    "\n",
    "# csv 로 저장\n",
    "common.preds_list_to_save_to_csv(final_pred, tst_loader, 'pred_ensemble.csv')"
   ]
  }
 ],
 "metadata": {
  "kernelspec": {
   "display_name": "base",
   "language": "python",
   "name": "python3"
  },
  "language_info": {
   "codemirror_mode": {
    "name": "ipython",
    "version": 3
   },
   "file_extension": ".py",
   "mimetype": "text/x-python",
   "name": "python",
   "nbconvert_exporter": "python",
   "pygments_lexer": "ipython3",
   "version": "3.10.13"
  }
 },
 "nbformat": 4,
 "nbformat_minor": 2
}
